{
 "cells": [
  {
   "cell_type": "code",
   "execution_count": 5,
   "metadata": {},
   "outputs": [],
   "source": [
    "import pandas as pd\n",
    "import json\n",
    "import dotenv\n",
    "import os\n",
    "import openai\n",
    "from openai import OpenAI, AsyncOpenAI\n",
    "import asyncio\n",
    "import numpy as np\n",
    "from prompt import SYSTEM_PROMPT\n",
    "\n",
    "\n",
    "dotenv.load_dotenv()\n",
    "\n",
    "client = OpenAI(\n",
    "  project=os.environ.get('PROJECT_ID'),\n",
    "  api_key=os.environ.get('OPENAI_API_KEY')\n",
    ")"
   ]
  },
  {
   "cell_type": "code",
   "execution_count": 7,
   "metadata": {},
   "outputs": [],
   "source": [
    "# utils\n",
    "\n",
    "def get_embedding(text: str, model=\"text-embedding-3-small\", **kwargs):\n",
    "    # replace newlines, which can negatively affect performance.\n",
    "    text = text.replace(\"\\n\", \" \")\n",
    "\n",
    "    response = client.embeddings.create(input=[text], model=model, **kwargs)\n",
    "\n",
    "    return response.data[0].embedding\n",
    "\n",
    "def cosine_similarity(a, b):\n",
    "    return np.dot(a, b) / (np.linalg.norm(a) * np.linalg.norm(b))\n"
   ]
  },
  {
   "cell_type": "code",
   "execution_count": 8,
   "metadata": {},
   "outputs": [],
   "source": [
    "for file in ['../cleaned_equal.csv', '../cleaned_non_equal.csv']:\n",
    "    with open(file.replace('.csv', '.json'), 'w') as json_file:\n",
    "        json.dump(pd.read_csv(file).set_index('id').T.to_dict(), json_file, indent=4)"
   ]
  },
  {
   "cell_type": "code",
   "execution_count": 35,
   "metadata": {},
   "outputs": [
    {
     "name": "stdout",
     "output_type": "stream",
     "text": [
      "prev_context : Customer's Message: Hello, I am so glad you have reached out.  I am having a problem with one of the new hearing aides, no matter if it’s one ear or the other I cannot stop it from making sounds, I have tried different domes, different ears, etc.  I know think this one may be defective.\n",
      "\n",
      "On another note, I purchased hearing aides from you in <DATE_TIME>, <DATE_TIME>, I lost one of them and can’t find it.  It is a different design from the new ones.  Can it be replaced?  I really liked them.  If fact because the new ones have only one that is working right, I am wear two different design ones at the moment.\n",
      "\n",
      "Hope you can help.\n",
      "\n",
      "<PERSON>\n",
      "\n",
      "response : Hi <PERSON>,\n",
      "\n",
      "Thank you for reaching out. I've created a replacement order for the defective hearing aid and sent a return label to your email. Please return it with all accessories. Regarding the lost hearing aid, we can discuss replacement options. Let me know if you need further assistance.\n",
      "\n",
      "Best regards,\n",
      "Brashna K.\n",
      "agent_response : Hi <PERSON>,\n",
      "Thank you for reaching out.I'm sorry to hear about the discomfort you've been experiencing with your hearing aids. Please try the following troubleshooting steps:\n",
      "Often, whistling/ feedback can be reduced by adjusting the volume or changing the ear tips for a better fit.\n",
      "Make sure that you have them pushed in all the way, if the microphone is sitting against your ear it will block it and produce feedback\n",
      "Start with the removal wire towards the bottom of the ear and slowly rotate it in the ear until it reaches a comfortable spot and feedback stops.\n",
      "If you need further assistance or have other questions, please let us know.\n",
      "Best regards,\n",
      "Brashna K.\n",
      "sources : [[\"human_message: Hello <PERSON>, I have a problem with one of the Hearing aids.. I believe it's defective.. It continuesly beeps as soon as it gets near my ear. Please advise .. Thank you\\n\\nhuman_message: Yes it seems <URL> I mentioned one of the Hearing aids is not usable.\\n\\nai_message: Hi ROBERT,\\nThank you for that information and I have created a replacement order for you. I have also sent a return label to your email for the return of the hearing aids you currently have. Please ensure to pack both hearing aids, the chargers, and all accessories into your original <PERSON> me know if there\\u2019s anything else I can help you with.\\nBest regards,<PERSON>\"]]\n"
     ]
    }
   ],
   "source": [
    "unequal_dict = json.load(open('../cleaned_non_equal.json'))\n",
    "\n",
    "_key = '9dbf2aa9-52d5-4952-aa42-a01e1fc344c8'\n",
    "\n",
    "for key, value in unequal_dict[_key].items():\n",
    "    print(key,\":\", value)"
   ]
  },
  {
   "cell_type": "code",
   "execution_count": 12,
   "metadata": {},
   "outputs": [],
   "source": [
    "unequal_dict = json.load(open('../cleaned_non_equal.json'))\n",
    "keys_list = list(unequal_dict.keys())\n",
    "\n",
    "CHATS = []\n",
    "for idx in range(len(keys_list)):\n",
    "    part = unequal_dict[keys_list[idx]]\n",
    "    COMPLETE_CHAT = r\"\"\"PREV_CONTEXT: {} RESPONSE1: {} RESPONSE2: {}\"\"\".format(part['prev_context'], part['response'], part['agent_response'])\n",
    "    CHATS.append(COMPLETE_CHAT)\n",
    "\n",
    "ai_response_embeds = [get_embedding(value['response']) for value in list(unequal_dict.values())[:10]]\n",
    "agent_response_embeds = [get_embedding(value['agent_response']) for value in list(unequal_dict.values())[:10]]\n",
    "\n",
    "diff = [{keys_list[idx]: cosine_similarity(ai_response_embeds[idx], agent_response_embeds[idx])} for idx in range(len(ai_response_embeds))]"
   ]
  },
  {
   "cell_type": "code",
   "execution_count": 13,
   "metadata": {},
   "outputs": [
    {
     "data": {
      "text/plain": [
       "[{'9eb89242-c9a8-496f-aa5a-78aee3b1724e': 0.7130335959817298},\n",
       " {'515d6d85-8d05-4bbd-b8c8-2d81f7f9e1ad': 0.8456429100140704},\n",
       " {'2ebd2e1f-8497-4614-9370-a871434f5d14': 0.6300213842666598},\n",
       " {'ef45bcd2-0cc4-4d36-b895-a37913f3b602': 0.947483529183924},\n",
       " {'61f63f12-1854-4e64-8fcb-9b39968bd123': 0.9859149656653425},\n",
       " {'a3d9f113-4881-44c8-8f87-ab0f8c04a9f9': 0.9215406247040218},\n",
       " {'c8648fc7-0677-4db7-ab65-46bb94077599': 0.6615057795294927},\n",
       " {'35ec0581-9a07-46a9-b515-4255fc6a52ff': 0.7898228418783072},\n",
       " {'b42513d6-17af-45f1-a8b2-7138deacf2d8': 0.6878579046633595},\n",
       " {'0126184a-d81f-4b04-a026-f1cde1ac9423': 0.6580592996372631}]"
      ]
     },
     "execution_count": 13,
     "metadata": {},
     "output_type": "execute_result"
    }
   ],
   "source": [
    "diff"
   ]
  },
  {
   "cell_type": "code",
   "execution_count": 5,
   "metadata": {},
   "outputs": [],
   "source": [
    "# print(CHATS[0])\n",
    "# CHATS[0]"
   ]
  },
  {
   "cell_type": "code",
   "execution_count": 6,
   "metadata": {},
   "outputs": [],
   "source": [
    "# metrics = ['clarity_and_directness', 'completeness','relevance', 'tone_and_customer_friendliness']\n",
    "\n",
    "# issues_with_ai_response = {\n",
    "#     '2': 'very long and complex',\n",
    "#     '6': 'incomplete information',\n",
    "#     '7': 'incomplete information',\n",
    "#     '8': 'unnessary information like company name at the end',\n",
    "    \n",
    "#     }"
   ]
  },
  {
   "cell_type": "code",
   "execution_count": 10,
   "metadata": {},
   "outputs": [
    {
     "name": "stdout",
     "output_type": "stream",
     "text": [
      "1 out of 5\n",
      "2 out of 5\n",
      "3 out of 5\n",
      "4 out of 5\n",
      "5 out of 5\n",
      "6 out of 5\n",
      "7 out of 5\n",
      "8 out of 5\n",
      "9 out of 5\n",
      "10 out of 5\n"
     ]
    }
   ],
   "source": [
    "responses = []\n",
    "\n",
    "cnt = 1\n",
    "for chat in CHATS[20:30]:\n",
    "\n",
    "    system_message = {\"role\": \"system\", \"content\": SYSTEM_PROMPT.replace(\">>chat<<\", chat)}\n",
    "\n",
    "    response = client.chat.completions.create(\n",
    "        model=\"gpt-3.5-turbo\",\n",
    "        messages=[system_message],\n",
    "        response_format={\"type\": \"json_object\"},\n",
    "    )\n",
    "    content = json.loads(response.choices[0].message.content)\n",
    "    usage = response.usage.to_dict()\n",
    "    responses.append(\n",
    "        {   \n",
    "            \"chat\": chat,\n",
    "            \"content\": content,\n",
    "            \"usage\": usage,\n",
    "        }\n",
    "    )\n",
    "    print(cnt, \"out of 5\")\n",
    "    cnt += 1\n"
   ]
  },
  {
   "cell_type": "code",
   "execution_count": null,
   "metadata": {},
   "outputs": [],
   "source": [
    "for res in responses:\n",
    "    # print(res['content'])\n",
    "    if res[\"content\"][\"response1\"][\"overall\"] < res[\"content\"][\"response2\"][\"overall\"]:\n",
    "        print('/////////////////////////////////////////////////////////', \"\\n\\n\\n\")\n",
    "        print(res['chat'], \"\\n\\n\\n\")\n",
    "        print(res['content'], \"\\n\\n\\n\")"
   ]
  },
  {
   "cell_type": "code",
   "execution_count": null,
   "metadata": {},
   "outputs": [],
   "source": [
    "examples_of_incomplete_information = ['eccbcd59-9f95-43da-a253-3c502f98b26a', 'c342dc8b-f30f-469a-9b44-e1090e61d48b']\n",
    "examples_of_incomplete_customer_response = ['f8c8a244-daf9-46c8-be8c-9f6e8907e619']"
   ]
  }
 ],
 "metadata": {
  "kernelspec": {
   "display_name": "llm",
   "language": "python",
   "name": "python3"
  },
  "language_info": {
   "codemirror_mode": {
    "name": "ipython",
    "version": 3
   },
   "file_extension": ".py",
   "mimetype": "text/x-python",
   "name": "python",
   "nbconvert_exporter": "python",
   "pygments_lexer": "ipython3",
   "version": "3.11.2"
  }
 },
 "nbformat": 4,
 "nbformat_minor": 2
}
